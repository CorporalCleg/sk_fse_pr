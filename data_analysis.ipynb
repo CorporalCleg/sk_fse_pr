{
 "cells": [
  {
   "cell_type": "code",
   "execution_count": 2,
   "metadata": {},
   "outputs": [],
   "source": [
    "%matplotlib inline\n",
    "\n",
    "import numpy as np\n",
    "import pandas as pd\n",
    "import matplotlib.pyplot as plt\n",
    "\n",
    "from pathlib import Path\n",
    "\n",
    "from canguro_processing_tools.trajectories.trajectory_2d import Trajectory2D"
   ]
  },
  {
   "cell_type": "code",
   "execution_count": 3,
   "metadata": {},
   "outputs": [],
   "source": [
    "def read_odometry(data: pd.DataFrame) -> np.ndarray:\n",
    "    x = data[\"cart_x\"].to_numpy()\n",
    "    y = data[\"cart_y\"].to_numpy()\n",
    "    yaw = np.array([quaternion_to_yaw(data[\"quat_x\"][i],\n",
    "                                            data[\"quat_y\"][i],\n",
    "                                            data[\"quat_z\"][i],\n",
    "                                            data[\"quat_w\"][i]) for i in range(x.shape[0])])\n",
    "    result = np.column_stack((x, y, yaw))\n",
    "    return result\n",
    "\n",
    "def quaternion_to_yaw(x: float, y: float, z: float, w: float) -> float:\n",
    "    t2 = +2.0 * (w * y - z * x)\n",
    "    t2 = +1.0 if t2 > +1.0 else t2\n",
    "    t2 = -1.0 if t2 < -1.0 else t2\n",
    "    t3 = +2.0 * (w * z + x * y)\n",
    "    t4 = +1.0 - 2.0 * (y * y + z * z)\n",
    "    yaw = np.arctan2(t3, t4)\n",
    "    return yaw"
   ]
  },
  {
   "cell_type": "code",
   "execution_count": 4,
   "metadata": {},
   "outputs": [],
   "source": [
    "TRAJECTORY_PATH = Path(\"/mnt/vol0/datasets/egowalk/extracted/2024_08_31/2024_08_31__16_27_43\")"
   ]
  },
  {
   "cell_type": "code",
   "execution_count": 5,
   "metadata": {},
   "outputs": [],
   "source": [
    "odom_df = pd.read_csv(str(TRAJECTORY_PATH / \"odometry.csv\"))\n",
    "trajectory = read_odometry(odom_df)"
   ]
  },
  {
   "cell_type": "code",
   "execution_count": null,
   "metadata": {},
   "outputs": [],
   "source": []
  },
  {
   "cell_type": "code",
   "execution_count": 6,
   "metadata": {},
   "outputs": [
    {
     "data": {
      "text/plain": [
       "<matplotlib.collections.PathCollection at 0x7fe7c78d6710>"
      ]
     },
     "execution_count": 6,
     "metadata": {},
     "output_type": "execute_result"
    },
    {
     "data": {
      "image/png": "[encoded data removed]",
      "text/plain": [
       "<Figure size 640x480 with 1 Axes>"
      ]
     },
     "metadata": {},
     "output_type": "display_data"
    }
   ],
   "source": [
    "plt.scatter(trajectory[:, 0], trajectory[:, 1])"
   ]
  },
  {
   "cell_type": "code",
   "execution_count": 7,
   "metadata": {},
   "outputs": [
    {
     "data": {
      "text/html": [
       "<div>\n",
       "<style scoped>\n",
       "    .dataframe tbody tr th:only-of-type {\n",
       "        vertical-align: middle;\n",
       "    }\n",
       "\n",
       "    .dataframe tbody tr th {\n",
       "        vertical-align: top;\n",
       "    }\n",
       "\n",
       "    .dataframe thead th {\n",
       "        text-align: right;\n",
       "    }\n",
       "</style>\n",
       "<table border=\"1\" class=\"dataframe\">\n",
       "  <thead>\n",
       "    <tr style=\"text-align: right;\">\n",
       "      <th></th>\n",
       "      <th>timestamp</th>\n",
       "      <th>quat_x</th>\n",
       "      <th>quat_y</th>\n",
       "      <th>quat_z</th>\n",
       "      <th>quat_w</th>\n",
       "      <th>cart_x</th>\n",
       "      <th>cart_y</th>\n",
       "      <th>cart_z</th>\n",
       "    </tr>\n",
       "  </thead>\n",
       "  <tbody>\n",
       "    <tr>\n",
       "      <th>0</th>\n",
       "      <td>1725110865456</td>\n",
       "      <td>-0.050518</td>\n",
       "      <td>0.044365</td>\n",
       "      <td>-0.002248</td>\n",
       "      <td>0.997735</td>\n",
       "      <td>0.000000</td>\n",
       "      <td>0.000000</td>\n",
       "      <td>0.000000</td>\n",
       "    </tr>\n",
       "    <tr>\n",
       "      <th>1</th>\n",
       "      <td>1725110865489</td>\n",
       "      <td>-0.050518</td>\n",
       "      <td>0.044365</td>\n",
       "      <td>-0.002248</td>\n",
       "      <td>0.997735</td>\n",
       "      <td>0.000000</td>\n",
       "      <td>0.000000</td>\n",
       "      <td>0.000000</td>\n",
       "    </tr>\n",
       "    <tr>\n",
       "      <th>2</th>\n",
       "      <td>1725110865522</td>\n",
       "      <td>-0.048640</td>\n",
       "      <td>0.043827</td>\n",
       "      <td>-0.001907</td>\n",
       "      <td>0.997853</td>\n",
       "      <td>-0.000280</td>\n",
       "      <td>-0.001620</td>\n",
       "      <td>-0.001476</td>\n",
       "    </tr>\n",
       "    <tr>\n",
       "      <th>3</th>\n",
       "      <td>1725110865555</td>\n",
       "      <td>-0.046328</td>\n",
       "      <td>0.043539</td>\n",
       "      <td>-0.002121</td>\n",
       "      <td>0.997975</td>\n",
       "      <td>0.000504</td>\n",
       "      <td>-0.003373</td>\n",
       "      <td>-0.002266</td>\n",
       "    </tr>\n",
       "    <tr>\n",
       "      <th>4</th>\n",
       "      <td>1725110865588</td>\n",
       "      <td>-0.043836</td>\n",
       "      <td>0.043825</td>\n",
       "      <td>-0.002251</td>\n",
       "      <td>0.998074</td>\n",
       "      <td>0.000663</td>\n",
       "      <td>-0.004720</td>\n",
       "      <td>-0.001402</td>\n",
       "    </tr>\n",
       "    <tr>\n",
       "      <th>...</th>\n",
       "      <td>...</td>\n",
       "      <td>...</td>\n",
       "      <td>...</td>\n",
       "      <td>...</td>\n",
       "      <td>...</td>\n",
       "      <td>...</td>\n",
       "      <td>...</td>\n",
       "      <td>...</td>\n",
       "    </tr>\n",
       "    <tr>\n",
       "      <th>8318</th>\n",
       "      <td>1725111143636</td>\n",
       "      <td>-0.077593</td>\n",
       "      <td>-0.019860</td>\n",
       "      <td>0.917803</td>\n",
       "      <td>0.388875</td>\n",
       "      <td>10.464559</td>\n",
       "      <td>9.399096</td>\n",
       "      <td>0.051102</td>\n",
       "    </tr>\n",
       "    <tr>\n",
       "      <th>8319</th>\n",
       "      <td>1725111143669</td>\n",
       "      <td>-0.080563</td>\n",
       "      <td>-0.018666</td>\n",
       "      <td>0.916796</td>\n",
       "      <td>0.390700</td>\n",
       "      <td>10.446529</td>\n",
       "      <td>9.411627</td>\n",
       "      <td>0.052063</td>\n",
       "    </tr>\n",
       "    <tr>\n",
       "      <th>8320</th>\n",
       "      <td>1725111143703</td>\n",
       "      <td>-0.082524</td>\n",
       "      <td>-0.017966</td>\n",
       "      <td>0.916103</td>\n",
       "      <td>0.391948</td>\n",
       "      <td>10.428415</td>\n",
       "      <td>9.423837</td>\n",
       "      <td>0.051659</td>\n",
       "    </tr>\n",
       "    <tr>\n",
       "      <th>8321</th>\n",
       "      <td>1725111143736</td>\n",
       "      <td>-0.084783</td>\n",
       "      <td>-0.017252</td>\n",
       "      <td>0.915748</td>\n",
       "      <td>0.392326</td>\n",
       "      <td>10.418063</td>\n",
       "      <td>9.436438</td>\n",
       "      <td>0.053469</td>\n",
       "    </tr>\n",
       "    <tr>\n",
       "      <th>8322</th>\n",
       "      <td>1725111143769</td>\n",
       "      <td>-0.087358</td>\n",
       "      <td>-0.015849</td>\n",
       "      <td>0.914828</td>\n",
       "      <td>0.393963</td>\n",
       "      <td>10.402586</td>\n",
       "      <td>9.450226</td>\n",
       "      <td>0.047811</td>\n",
       "    </tr>\n",
       "  </tbody>\n",
       "</table>\n",
       "<p>8323 rows × 8 columns</p>\n",
       "</div>"
      ],
      "text/plain": [
       "          timestamp    quat_x    quat_y    quat_z    quat_w     cart_x  \\\n",
       "0     1725110865456 -0.050518  0.044365 -0.002248  0.997735   0.000000   \n",
       "1     1725110865489 -0.050518  0.044365 -0.002248  0.997735   0.000000   \n",
       "2     1725110865522 -0.048640  0.043827 -0.001907  0.997853  -0.000280   \n",
       "3     1725110865555 -0.046328  0.043539 -0.002121  0.997975   0.000504   \n",
       "4     1725110865588 -0.043836  0.043825 -0.002251  0.998074   0.000663   \n",
       "...             ...       ...       ...       ...       ...        ...   \n",
       "8318  1725111143636 -0.077593 -0.019860  0.917803  0.388875  10.464559   \n",
       "8319  1725111143669 -0.080563 -0.018666  0.916796  0.390700  10.446529   \n",
       "8320  1725111143703 -0.082524 -0.017966  0.916103  0.391948  10.428415   \n",
       "8321  1725111143736 -0.084783 -0.017252  0.915748  0.392326  10.418063   \n",
       "8322  1725111143769 -0.087358 -0.015849  0.914828  0.393963  10.402586   \n",
       "\n",
       "        cart_y    cart_z  \n",
       "0     0.000000  0.000000  \n",
       "1     0.000000  0.000000  \n",
       "2    -0.001620 -0.001476  \n",
       "3    -0.003373 -0.002266  \n",
       "4    -0.004720 -0.001402  \n",
       "...        ...       ...  \n",
       "8318  9.399096  0.051102  \n",
       "8319  9.411627  0.052063  \n",
       "8320  9.423837  0.051659  \n",
       "8321  9.436438  0.053469  \n",
       "8322  9.450226  0.047811  \n",
       "\n",
       "[8323 rows x 8 columns]"
      ]
     },
     "execution_count": 7,
     "metadata": {},
     "output_type": "execute_result"
    }
   ],
   "source": [
    "odom_df"
   ]
  },
  {
   "cell_type": "code",
   "execution_count": 8,
   "metadata": {},
   "outputs": [],
   "source": [
    "timestamps = odom_df[\"timestamp\"].to_numpy() / 1000.\n",
    "fpss = 1. / np.diff(timestamps)"
   ]
  },
  {
   "cell_type": "code",
   "execution_count": null,
   "metadata": {},
   "outputs": [],
   "source": []
  },
  {
   "cell_type": "code",
   "execution_count": 9,
   "metadata": {},
   "outputs": [],
   "source": [
    "traj_2d = Trajectory2D.read(TRAJECTORY_PATH)"
   ]
  },
  {
   "cell_type": "code",
   "execution_count": 10,
   "metadata": {},
   "outputs": [
    {
     "data": {
      "text/plain": [
       "<matplotlib.collections.PathCollection at 0x7fe888529030>"
      ]
     },
     "execution_count": 10,
     "metadata": {},
     "output_type": "execute_result"
    },
    {
     "data": {
      "image/png": "[encoded data removed]",
      "text/plain": [
       "<Figure size 640x480 with 1 Axes>"
      ]
     },
     "metadata": {},
     "output_type": "display_data"
    }
   ],
   "source": [
    "plt.scatter(traj_2d.poses[:, 0], traj_2d.poses[:, 1])"
   ]
  },
  {
   "cell_type": "code",
   "execution_count": 11,
   "metadata": {},
   "outputs": [
    {
     "data": {
      "text/plain": [
       "True"
      ]
     },
     "execution_count": 11,
     "metadata": {},
     "output_type": "execute_result"
    }
   ],
   "source": [
    "traj_2d_completes = traj_2d.split_on_completes()\n",
    "ref_ts = traj_2d.poses_timestamps\n",
    "target_ts = []\n",
    "for e in traj_2d_completes:\n",
    "    target_ts = target_ts + e.frames_timestamps\n",
    "np.allclose(np.array(ref_ts), np.array(target_ts))"
   ]
  },
  {
   "cell_type": "code",
   "execution_count": 12,
   "metadata": {},
   "outputs": [
    {
     "data": {
      "text/plain": [
       "3"
      ]
     },
     "execution_count": 12,
     "metadata": {},
     "output_type": "execute_result"
    }
   ],
   "source": [
    "len(traj_2d_completes)"
   ]
  },
  {
   "cell_type": "code",
   "execution_count": 16,
   "metadata": {},
   "outputs": [
    {
     "data": {
      "text/plain": [
       "5411"
      ]
     },
     "execution_count": 16,
     "metadata": {},
     "output_type": "execute_result"
    }
   ],
   "source": [
    "len(traj_2d_completes[0].frames)"
   ]
  },
  {
   "cell_type": "code",
   "execution_count": 14,
   "metadata": {},
   "outputs": [
    {
     "data": {
      "text/plain": [
       "7"
      ]
     },
     "execution_count": 14,
     "metadata": {},
     "output_type": "execute_result"
    }
   ],
   "source": [
    "len(traj_2d.frames) - sum([len(e.frames) for e in traj_2d_completes])"
   ]
  },
  {
   "cell_type": "code",
   "execution_count": 15,
   "metadata": {},
   "outputs": [
    {
     "name": "stdout",
     "output_type": "stream",
     "text": [
      "True\n",
      "True\n",
      "True\n"
     ]
    }
   ],
   "source": [
    "for e in traj_2d_completes:\n",
    "    print(np.allclose(np.array(e.frames_timestamps),\n",
    "                      np.array(e.poses_timestamps)))"
   ]
  },
  {
   "cell_type": "code",
   "execution_count": 21,
   "metadata": {},
   "outputs": [
    {
     "name": "stdout",
     "output_type": "stream",
     "text": [
      "180.718\n",
      "180.36666666666667\n"
     ]
    }
   ],
   "source": [
    "sample_traj = traj_2d_completes[0]\n",
    "print((sample_traj.poses_timestamps[-1] - sample_traj.poses_timestamps[0]) / 1000.)\n",
    "print(len(sample_traj.frames) / 30)"
   ]
  },
  {
   "cell_type": "code",
   "execution_count": 23,
   "metadata": {},
   "outputs": [
    {
     "name": "stdout",
     "output_type": "stream",
     "text": [
      "None\n"
     ]
    }
   ],
   "source": [
    "print(sample_traj.camera_height)"
   ]
  }
 ],
 "metadata": {
  "kernelspec": {
   "display_name": "multinav_py312",
   "language": "python",
   "name": "python3"
  },
  "language_info": {
   "codemirror_mode": {
    "name": "ipython",
    "version": 3
   },
   "file_extension": ".py",
   "mimetype": "text/x-python",
   "name": "python",
   "nbconvert_exporter": "python",
   "pygments_lexer": "ipython3",
   "version": "3.10.12"
  }
 },
 "nbformat": 4,
 "nbformat_minor": 2
}
